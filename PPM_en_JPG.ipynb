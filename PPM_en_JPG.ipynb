{
 "cells": [
  {
   "cell_type": "code",
   "execution_count": 3,
   "id": "a95fa376-3196-461a-bffa-33314e0bf709",
   "metadata": {},
   "outputs": [
    {
     "name": "stdout",
     "output_type": "stream",
     "text": [
      " Image convertie en .jpg avec succès !\n"
     ]
    }
   ],
   "source": [
    "from PIL import Image\n",
    "\n",
    "# Ouvrir l'image PPM\n",
    "image = Image.open(\"image_avec_droites_aleatoires.ppm\")\n",
    "\n",
    "# Sauvegarder en JPEG\n",
    "image.save(\"image_avec_droites.jpg\", \"JPEG\")\n",
    "\n",
    "print(\" Image convertie en .jpg avec succès !\")\n"
   ]
  },
  {
   "cell_type": "code",
   "execution_count": 12,
   "id": "6e72fdc4-9aa0-4f29-a0a7-2d510e4dc516",
   "metadata": {},
   "outputs": [],
   "source": [
    "from PIL import Image\n",
    "\n",
    "# Charger et afficher l’image\n",
    "image = Image.open(\"image_avec_droites.jpg\")\n",
    "image.show()\n"
   ]
  },
  {
   "cell_type": "raw",
   "id": "64ebdf19-81ab-41b6-82fc-ca2571500abe",
   "metadata": {},
   "source": [
    "from PIL import Image\n",
    "import matplotlib.pyplot as plt\n",
    "\n",
    "# Charger l’image\n",
    "image = Image.open(\"image_avec_droites.jpg\")\n",
    "\n",
    "# Taille actuelle\n",
    "largeur, hauteur = image.size\n",
    "print(f\"Taille originale : {largeur} x {hauteur}\")\n",
    "\n",
    "# Facteur de zoom (ex. : 10 fois plus grand)\n",
    "facteur_zoom = 10\n",
    "image_zoom = image.resize((largeur * facteur_zoom, hauteur * facteur_zoom), Image.NEAREST)\n",
    "\n",
    "# Affichage avec matplotlib\n",
    "plt.figure(figsize=(6, 6))  # taille de la fenêtre\n",
    "plt.imshow(image_zoom)\n",
    "plt.axis(\"off\")\n",
    "plt.title(\"Image zoomée (×10)\")\n",
    "plt.show()\n"
   ]
  },
  {
   "cell_type": "code",
   "execution_count": 4,
   "id": "97712482-d2f1-45e5-a92a-04d261cce6b7",
   "metadata": {},
   "outputs": [
    {
     "data": {
      "image/png": "[encoded data removed]",
      "text/plain": [
       "<Figure size 640x480 with 1 Axes>"
      ]
     },
     "metadata": {},
     "output_type": "display_data"
    }
   ],
   "source": [
    "from PIL import Image\n",
    "import matplotlib.pyplot as plt\n",
    "\n",
    "# Charger l’image\n",
    "image = Image.open(\"image_avec_droites.jpg\")\n",
    "\n",
    "# Afficher avec matplotlib\n",
    "plt.imshow(image,interpolation='nearest' )\n",
    "plt.axis(\"off\")  # Enlever les axes\n",
    "plt.title(\"Image avec droites détectées\")\n",
    "plt.show()\n"
   ]
  },
  {
   "cell_type": "code",
   "execution_count": null,
   "id": "0e77d5fc-b462-45a6-b854-efaf0387cf4b",
   "metadata": {},
   "outputs": [],
   "source": []
  }
 ],
 "metadata": {
  "kernelspec": {
   "display_name": "Python 3 (ipykernel)",
   "language": "python",
   "name": "python3"
  },
  "language_info": {
   "codemirror_mode": {
    "name": "ipython",
    "version": 3
   },
   "file_extension": ".py",
   "mimetype": "text/x-python",
   "name": "python",
   "nbconvert_exporter": "python",
   "pygments_lexer": "ipython3",
   "version": "3.12.6"
  }
 },
 "nbformat": 4,
 "nbformat_minor": 5
}
